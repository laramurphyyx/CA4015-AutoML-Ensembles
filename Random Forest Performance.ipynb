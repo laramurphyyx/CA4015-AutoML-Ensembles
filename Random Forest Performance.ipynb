{
 "cells": [
  {
   "cell_type": "markdown",
   "id": "5af658e8",
   "metadata": {},
   "source": [
    "## Importing relevant packages and datasets"
   ]
  },
  {
   "cell_type": "code",
   "execution_count": 58,
   "id": "f4303217",
   "metadata": {},
   "outputs": [],
   "source": [
    "import pandas as pd\n",
    "import numpy as np\n",
    "from sklearn.model_selection import train_test_split\n",
    "from sklearn.ensemble import RandomForestClassifier"
   ]
  },
  {
   "cell_type": "code",
   "execution_count": 59,
   "id": "3a56f18f",
   "metadata": {},
   "outputs": [],
   "source": [
    "data = pd.read_excel('data/raw_data.xlsx', sheet_name=\"Wide\")"
   ]
  },
  {
   "cell_type": "code",
   "execution_count": 60,
   "id": "46c8d8a8",
   "metadata": {},
   "outputs": [],
   "source": [
    "columns = data.iloc[2]\n",
    "data = data.iloc[3:]\n",
    "data.columns = columns\n",
    "feature_columns = np.array(data.columns[3:])"
   ]
  },
  {
   "cell_type": "markdown",
   "id": "a2fc24b8",
   "metadata": {},
   "source": [
    "## Separating Features from Targets and Replacing nulls with 0s"
   ]
  },
  {
   "cell_type": "code",
   "execution_count": 36,
   "id": "13f4d91c",
   "metadata": {},
   "outputs": [],
   "source": [
    "features = data.iloc[:,3:]\n",
    "targets = data.iloc[:,:3]\n",
    "strain_targets = data.iloc[:,1]"
   ]
  },
  {
   "cell_type": "code",
   "execution_count": 37,
   "id": "c608adb1",
   "metadata": {},
   "outputs": [],
   "source": [
    "features = features.fillna(0)"
   ]
  },
  {
   "cell_type": "code",
   "execution_count": 38,
   "id": "896b7491",
   "metadata": {},
   "outputs": [],
   "source": [
    "train_features, test_features, train_targets, test_targets = train_test_split(\n",
    "features, strain_targets, test_size=0.33, random_state=42)"
   ]
  },
  {
   "cell_type": "code",
   "execution_count": 55,
   "id": "2187d4c8",
   "metadata": {},
   "outputs": [],
   "source": [
    "training_targets = np.array(train_targets).reshape((-1,))\n",
    "testing_targets = np.array(test_targets).reshape((-1,))"
   ]
  },
  {
   "cell_type": "markdown",
   "id": "a6e0ab49",
   "metadata": {},
   "source": [
    "## Training the Random Forest (no normalisation, nulls=0)"
   ]
  },
  {
   "cell_type": "code",
   "execution_count": 41,
   "id": "f2e895c8",
   "metadata": {},
   "outputs": [],
   "source": [
    "randomforest = RandomForestClassifier(n_estimators=100)"
   ]
  },
  {
   "cell_type": "code",
   "execution_count": 51,
   "id": "1f1b3281",
   "metadata": {},
   "outputs": [
    {
     "data": {
      "text/plain": [
       "RandomForestClassifier()"
      ]
     },
     "execution_count": 51,
     "metadata": {},
     "output_type": "execute_result"
    }
   ],
   "source": [
    "randomforest.fit(train_features,train_targets)"
   ]
  },
  {
   "cell_type": "code",
   "execution_count": 52,
   "id": "3ed5eee2",
   "metadata": {},
   "outputs": [],
   "source": [
    "predicted=randomforest.predict(test_features)"
   ]
  },
  {
   "cell_type": "code",
   "execution_count": 56,
   "id": "9f56edd2",
   "metadata": {},
   "outputs": [
    {
     "name": "stdout",
     "output_type": "stream",
     "text": [
      "0.8571428571428571\n"
     ]
    }
   ],
   "source": [
    "number_correct = 0\n",
    "for target in range(0, len(predicted)):\n",
    "    if predicted[target] == testing_targets[target]:\n",
    "        number_correct += 1\n",
    "\n",
    "print(number_correct/len(predicted)) ##0.8571428571428571"
   ]
  },
  {
   "cell_type": "code",
   "execution_count": 57,
   "id": "d5ea3895",
   "metadata": {},
   "outputs": [
    {
     "name": "stdout",
     "output_type": "stream",
     "text": [
      "1.0\n"
     ]
    }
   ],
   "source": [
    "number_similar = 0\n",
    "for target in range(0, len(predicted)):\n",
    "    if predicted[target][0:2] == testing_targets[target][0:2]:\n",
    "        number_similar += 1\n",
    "\n",
    "print(number_similar/len(predicted)) #1.0"
   ]
  },
  {
   "cell_type": "markdown",
   "id": "3a55828d",
   "metadata": {},
   "source": [
    "## Normalising data, Setting nulls=0 and Separating Features and Targets"
   ]
  },
  {
   "cell_type": "code",
   "execution_count": 61,
   "id": "d3a8685d",
   "metadata": {},
   "outputs": [],
   "source": [
    "for column in features.columns:\n",
    "    data[column]=(data[column]-data[column].min())/(data[column].max()-data[column].min())"
   ]
  },
  {
   "cell_type": "code",
   "execution_count": 62,
   "id": "46fd0c52",
   "metadata": {},
   "outputs": [],
   "source": [
    "data = data.fillna(0)"
   ]
  },
  {
   "cell_type": "code",
   "execution_count": 63,
   "id": "21723c41",
   "metadata": {},
   "outputs": [],
   "source": [
    "features = data.iloc[:,3:]\n",
    "strain_targets = data.iloc[:,1]"
   ]
  },
  {
   "cell_type": "code",
   "execution_count": 64,
   "id": "cf208158",
   "metadata": {},
   "outputs": [],
   "source": [
    "targets_array = np.array(strain_targets).reshape((-1,))"
   ]
  },
  {
   "cell_type": "code",
   "execution_count": 65,
   "id": "ba9bd894",
   "metadata": {},
   "outputs": [],
   "source": [
    "train_features, test_features, train_targets, test_targets = train_test_split(\n",
    "features, targets_array, test_size=0.33, random_state=42)"
   ]
  },
  {
   "cell_type": "markdown",
   "id": "7e7d2796",
   "metadata": {},
   "source": [
    "## Training the Random Forest (min-max normalisation, nulls=0)"
   ]
  },
  {
   "cell_type": "code",
   "execution_count": 66,
   "id": "16c1a79a",
   "metadata": {},
   "outputs": [],
   "source": [
    "randomforest = RandomForestClassifier(n_estimators=100)"
   ]
  },
  {
   "cell_type": "code",
   "execution_count": 67,
   "id": "7ed53e44",
   "metadata": {},
   "outputs": [
    {
     "data": {
      "text/plain": [
       "RandomForestClassifier()"
      ]
     },
     "execution_count": 67,
     "metadata": {},
     "output_type": "execute_result"
    }
   ],
   "source": [
    "randomforest.fit(train_features,train_targets)"
   ]
  },
  {
   "cell_type": "code",
   "execution_count": 68,
   "id": "68430aaa",
   "metadata": {},
   "outputs": [],
   "source": [
    "predicted=randomforest.predict(test_features)"
   ]
  },
  {
   "cell_type": "code",
   "execution_count": 69,
   "id": "cb3b2893",
   "metadata": {},
   "outputs": [
    {
     "name": "stdout",
     "output_type": "stream",
     "text": [
      "0.8214285714285714\n"
     ]
    }
   ],
   "source": [
    "number_correct = 0\n",
    "for target in range(0, len(predicted)):\n",
    "    if predicted[target] == testing_targets[target]:\n",
    "        number_correct += 1\n",
    "\n",
    "print(number_correct/len(predicted))"
   ]
  }
 ],
 "metadata": {
  "kernelspec": {
   "display_name": "Python 3 (ipykernel)",
   "language": "python",
   "name": "python3"
  },
  "language_info": {
   "codemirror_mode": {
    "name": "ipython",
    "version": 3
   },
   "file_extension": ".py",
   "mimetype": "text/x-python",
   "name": "python",
   "nbconvert_exporter": "python",
   "pygments_lexer": "ipython3",
   "version": "3.9.7"
  }
 },
 "nbformat": 4,
 "nbformat_minor": 5
}
