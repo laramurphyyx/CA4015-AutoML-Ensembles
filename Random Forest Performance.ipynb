{
 "cells": [
  {
   "cell_type": "code",
   "execution_count": null,
   "id": "e1b74f6b",
   "metadata": {},
   "outputs": [],
   "source": []
  },
  {
   "cell_type": "code",
   "execution_count": 1,
   "id": "f4303217",
   "metadata": {},
   "outputs": [],
   "source": [
    "import pandas as pd\n",
    "import numpy as np\n",
    "from sklearn.model_selection import train_test_split\n",
    "from sklearn.ensemble import RandomForestClassifier"
   ]
  },
  {
   "cell_type": "code",
   "execution_count": 2,
   "id": "3a56f18f",
   "metadata": {},
   "outputs": [],
   "source": [
    "data = pd.read_excel('data/raw_data.xlsx', sheet_name=\"Wide\")"
   ]
  },
  {
   "cell_type": "code",
   "execution_count": 3,
   "id": "46c8d8a8",
   "metadata": {},
   "outputs": [],
   "source": [
    "\n",
    "columns = data.iloc[2]"
   ]
  },
  {
   "cell_type": "code",
   "execution_count": 4,
   "id": "d3434a6f",
   "metadata": {},
   "outputs": [],
   "source": [
    "data_content = data.iloc[3:]"
   ]
  },
  {
   "cell_type": "code",
   "execution_count": 5,
   "id": "d422b088",
   "metadata": {},
   "outputs": [],
   "source": [
    "data_content.columns = columns"
   ]
  },
  {
   "cell_type": "markdown",
   "id": "a2fc24b8",
   "metadata": {},
   "source": [
    "## IDK"
   ]
  },
  {
   "cell_type": "code",
   "execution_count": 6,
   "id": "13f4d91c",
   "metadata": {},
   "outputs": [],
   "source": [
    "features = data_content.iloc[:,3:]\n",
    "targets = data_content.iloc[:,:3]\n",
    "strain_targets = targets.iloc[:,1]"
   ]
  },
  {
   "cell_type": "code",
   "execution_count": 7,
   "id": "c608adb1",
   "metadata": {},
   "outputs": [],
   "source": [
    "features = features.fillna(0)"
   ]
  },
  {
   "cell_type": "code",
   "execution_count": 8,
   "id": "896b7491",
   "metadata": {},
   "outputs": [],
   "source": [
    "train_features, test_features, train_targets, test_targets = train_test_split(\n",
    "features, strain_targets, test_size=0.33, random_state=42)"
   ]
  },
  {
   "cell_type": "markdown",
   "id": "1b7bc202",
   "metadata": {},
   "source": [
    "## also idk"
   ]
  },
  {
   "cell_type": "code",
   "execution_count": 21,
   "id": "2187d4c8",
   "metadata": {},
   "outputs": [],
   "source": [
    "training_targets = np.array(train_targets).reshape((-1,))\n",
    "testing_targets = np.array(test_targets).reshape((-1,))"
   ]
  },
  {
   "cell_type": "markdown",
   "id": "82cccb21",
   "metadata": {},
   "source": [
    "## Adjusting vbaluwes"
   ]
  },
  {
   "cell_type": "code",
   "execution_count": 12,
   "id": "b9d360b1",
   "metadata": {},
   "outputs": [],
   "source": [
    "strain_integer_conversion = {\n",
    "    'SA_A' : 1,\n",
    "    'SA_B' : 2,\n",
    "    'PA_A' : 3,\n",
    "    'PA_B' : 4,\n",
    "    'EC_A' : 5,\n",
    "    'EC_B' : 6\n",
    "}\n",
    "\n",
    "for target in range(0,len(training_targets)):\n",
    "    if training_targets[target] in strain_integer_conversion.keys():\n",
    "        training_targets[target] = strain_integer_conversion[training_targets[target]]\n",
    "        \n",
    "for target in range(0,len(testing_targets)):\n",
    "    if testing_targets[target] in strain_integer_conversion.keys():\n",
    "        testing_targets[target] = strain_integer_conversion[testing_targets[target]]"
   ]
  },
  {
   "cell_type": "code",
   "execution_count": 22,
   "id": "f2e895c8",
   "metadata": {},
   "outputs": [],
   "source": [
    "randomforest = RandomForestClassifier(n_estimators=100)"
   ]
  },
  {
   "cell_type": "code",
   "execution_count": 23,
   "id": "1f1b3281",
   "metadata": {},
   "outputs": [
    {
     "data": {
      "text/plain": [
       "RandomForestClassifier()"
      ]
     },
     "execution_count": 23,
     "metadata": {},
     "output_type": "execute_result"
    }
   ],
   "source": [
    "randomforest.fit(training_features,training_targets)"
   ]
  },
  {
   "cell_type": "code",
   "execution_count": 25,
   "id": "3ed5eee2",
   "metadata": {},
   "outputs": [],
   "source": [
    "predicted=randomforest.predict(testing_features)"
   ]
  },
  {
   "cell_type": "code",
   "execution_count": 26,
   "id": "07c3905c",
   "metadata": {},
   "outputs": [
    {
     "data": {
      "text/plain": [
       "array(['EC_B', 'SA_B', 'EC_A', 'SA_A', 'SA_B', 'EC_B', 'SA_B', 'SA_B',\n",
       "       'SA_A', 'EC_A', 'PA_A', 'PA_B', 'PA_A', 'EC_B', 'PA_A', 'PA_A',\n",
       "       'PA_A', 'EC_A', 'PA_A', 'PA_B', 'SA_A', 'PA_A', 'PA_B', 'SA_B',\n",
       "       'SA_B', 'EC_A', 'SA_B', 'PA_B'], dtype=object)"
      ]
     },
     "execution_count": 26,
     "metadata": {},
     "output_type": "execute_result"
    }
   ],
   "source": [
    "predicted"
   ]
  },
  {
   "cell_type": "code",
   "execution_count": 27,
   "id": "3ba97795",
   "metadata": {},
   "outputs": [
    {
     "data": {
      "text/plain": [
       "array(['EC_B', 'SA_A', 'EC_A', 'SA_A', 'SA_A', 'EC_B', 'SA_A', 'SA_B',\n",
       "       'SA_A', 'EC_A', 'PA_A', 'PA_B', 'PA_B', 'EC_B', 'PA_B', 'PA_B',\n",
       "       'PA_A', 'EC_A', 'PA_A', 'PA_B', 'SA_A', 'PA_A', 'PA_B', 'SA_B',\n",
       "       'SA_B', 'EC_A', 'SA_B', 'PA_B'], dtype=object)"
      ]
     },
     "execution_count": 27,
     "metadata": {},
     "output_type": "execute_result"
    }
   ],
   "source": [
    "testing_targets"
   ]
  },
  {
   "cell_type": "code",
   "execution_count": 28,
   "id": "9f56edd2",
   "metadata": {},
   "outputs": [
    {
     "name": "stdout",
     "output_type": "stream",
     "text": [
      "0.7857142857142857\n"
     ]
    }
   ],
   "source": [
    "number_correct = 0\n",
    "for target in range(0, len(predicted)):\n",
    "    if predicted[target] == testing_targets[target]:\n",
    "        number_correct += 1\n",
    "\n",
    "print(number_correct/len(predicted))"
   ]
  },
  {
   "cell_type": "code",
   "execution_count": 33,
   "id": "d5ea3895",
   "metadata": {},
   "outputs": [
    {
     "name": "stdout",
     "output_type": "stream",
     "text": [
      "1.0\n"
     ]
    }
   ],
   "source": [
    "number_similar = 0\n",
    "for target in range(0, len(predicted)):\n",
    "    if predicted[target][0:2] == testing_targets[target][0:2]:\n",
    "        number_similar += 1\n",
    "\n",
    "print(number_similar/len(predicted))"
   ]
  },
  {
   "cell_type": "code",
   "execution_count": null,
   "id": "953290ac",
   "metadata": {},
   "outputs": [],
   "source": []
  }
 ],
 "metadata": {
  "kernelspec": {
   "display_name": "Python 3 (ipykernel)",
   "language": "python",
   "name": "python3"
  },
  "language_info": {
   "codemirror_mode": {
    "name": "ipython",
    "version": 3
   },
   "file_extension": ".py",
   "mimetype": "text/x-python",
   "name": "python",
   "nbconvert_exporter": "python",
   "pygments_lexer": "ipython3",
   "version": "3.9.7"
  }
 },
 "nbformat": 4,
 "nbformat_minor": 5
}
