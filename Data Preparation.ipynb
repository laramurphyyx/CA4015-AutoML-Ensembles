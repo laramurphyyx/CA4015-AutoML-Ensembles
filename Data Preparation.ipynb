{
 "cells": [
  {
   "cell_type": "markdown",
   "id": "7f4ed421",
   "metadata": {},
   "source": [
    "# Using TPOT to Identify the Best Model for VOC Data"
   ]
  },
  {
   "cell_type": "markdown",
   "id": "3f9645db",
   "metadata": {},
   "source": [
    "## Importing Relevant Packages and Datasets"
   ]
  },
  {
   "cell_type": "code",
   "execution_count": 95,
   "id": "01c1087a",
   "metadata": {},
   "outputs": [],
   "source": [
    "import pandas as pd\n",
    "import numpy as np\n",
    "from sklearn.model_selection import train_test_split\n",
    "from tpot import TPOTClassifier"
   ]
  },
  {
   "cell_type": "code",
   "execution_count": 2,
   "id": "d61374fe",
   "metadata": {},
   "outputs": [],
   "source": [
    "data = pd.read_excel('data/raw_data.xlsx', sheet_name=\"Wide\")"
   ]
  },
  {
   "cell_type": "markdown",
   "id": "4826e7d9",
   "metadata": {},
   "source": [
    "## Restructuring the data"
   ]
  },
  {
   "cell_type": "markdown",
   "id": "52e850b3",
   "metadata": {},
   "source": [
    "The data contains null values for columns, and the real column names are contained within a row in the dataframe.\n",
    "The row of column names need to be extracted, and added as the column names for the remaining data."
   ]
  },
  {
   "cell_type": "code",
   "execution_count": 6,
   "id": "1a1d8d14",
   "metadata": {},
   "outputs": [],
   "source": [
    "columns = data.iloc[2]"
   ]
  },
  {
   "cell_type": "code",
   "execution_count": 7,
   "id": "09ac4595",
   "metadata": {},
   "outputs": [],
   "source": [
    "data_content = data.iloc[3:]"
   ]
  },
  {
   "cell_type": "code",
   "execution_count": 9,
   "id": "8aa3d3e9",
   "metadata": {},
   "outputs": [],
   "source": [
    "data_content.columns = columns"
   ]
  },
  {
   "cell_type": "markdown",
   "id": "a57578b9",
   "metadata": {},
   "source": [
    "# Creating test and train features"
   ]
  },
  {
   "cell_type": "markdown",
   "id": "3f9bc4a4",
   "metadata": {},
   "source": [
    "The target label is the strain, and the features used to train the model exclude the strain, the species and the sample.\n",
    "The species and the sample are removed from the training features due to their link to the strain."
   ]
  },
  {
   "cell_type": "code",
   "execution_count": 114,
   "id": "3856540e",
   "metadata": {},
   "outputs": [],
   "source": [
    "features = data_content.iloc[:,3:]\n",
    "targets = data_content.iloc[:,:3]\n",
    "strain_targets = targets.iloc[:,1]"
   ]
  },
  {
   "cell_type": "code",
   "execution_count": 116,
   "id": "4ba287b6",
   "metadata": {},
   "outputs": [],
   "source": [
    "features = features.fillna(0)"
   ]
  },
  {
   "cell_type": "code",
   "execution_count": 117,
   "id": "092d8b44",
   "metadata": {},
   "outputs": [
    {
     "data": {
      "text/plain": [
       "True"
      ]
     },
     "execution_count": 117,
     "metadata": {},
     "output_type": "execute_result"
    }
   ],
   "source": [
    "## checking that all columns are numeric\n",
    "features.shape[1] == features.select_dtypes(include=np.number).shape[1]"
   ]
  },
  {
   "cell_type": "code",
   "execution_count": 118,
   "id": "07b37073",
   "metadata": {},
   "outputs": [],
   "source": [
    "train_features, test_features, train_targets, test_targets = train_test_split(\n",
    "features, strain_targets, test_size=0.33, random_state=42)"
   ]
  },
  {
   "cell_type": "code",
   "execution_count": 119,
   "id": "7c8b6f09",
   "metadata": {
    "scrolled": true
   },
   "outputs": [
    {
     "name": "stdout",
     "output_type": "stream",
     "text": [
      "(56, 67)\n",
      "(28, 67)\n"
     ]
    }
   ],
   "source": [
    "print(train_features.shape)\n",
    "print(test_features.shape)"
   ]
  },
  {
   "cell_type": "markdown",
   "id": "5f09ac18",
   "metadata": {},
   "source": [
    "## Converting training data to numpy arrays"
   ]
  },
  {
   "cell_type": "code",
   "execution_count": 131,
   "id": "c05e7af5",
   "metadata": {},
   "outputs": [],
   "source": [
    "training_targets = np.array(train_targets).reshape((-1,))\n",
    "testing_targets = np.array(test_targets).reshape((-1,))"
   ]
  },
  {
   "cell_type": "markdown",
   "id": "aa5fd65d",
   "metadata": {},
   "source": [
    "## Adjusting the target values to be integers"
   ]
  },
  {
   "cell_type": "code",
   "execution_count": 140,
   "id": "69217b7b",
   "metadata": {},
   "outputs": [],
   "source": [
    "strain_integer_conversion = {\n",
    "    'SA_A' : 1,\n",
    "    'SA_B' : 2,\n",
    "    'PA_A' : 3,\n",
    "    'PA_B' : 4,\n",
    "    'EC_A' : 5,\n",
    "    'EC_B' : 6\n",
    "}\n",
    "\n",
    "for target in range(0,len(training_targets)):\n",
    "    if training_targets[target] in strain_integer_conversion.keys():\n",
    "        training_targets[target] = strain_integer_conversion[training_targets[target]]\n",
    "        \n",
    "for target in range(0,len(testing_targets)):\n",
    "    if testing_targets[target] in strain_integer_conversion.keys():\n",
    "        testing_targets[target] = strain_integer_conversion[testing_targets[target]]"
   ]
  },
  {
   "cell_type": "markdown",
   "id": "b364206c",
   "metadata": {},
   "source": [
    "## Using TPOT"
   ]
  },
  {
   "cell_type": "code",
   "execution_count": 146,
   "id": "85bd9d4e",
   "metadata": {},
   "outputs": [],
   "source": [
    "from sklearn.metrics import make_scorer\n",
    "\n",
    "def my_custom_accuracy(y_true, y_pred):\n",
    "    return float(sum(y_pred == y_true)) / len(y_true)\n",
    "\n",
    "my_custom_scorer = make_scorer(my_custom_accuracy, greater_is_better=True)\n",
    "\n",
    "# Create a tpot object with a few parameters\n",
    "tpot = TPOTClassifier(scoring = my_custom_scorer, \n",
    "                    max_time_mins = 12, \n",
    "                    n_jobs = -1,\n",
    "                    verbosity = 2,\n",
    "                    cv = 5)"
   ]
  },
  {
   "cell_type": "code",
   "execution_count": 141,
   "id": "e7e48003",
   "metadata": {},
   "outputs": [],
   "source": [
    "# Create a tpot object with a few parameters\n",
    "tpot = TPOTClassifier(scoring = 'accuracy', \n",
    "                    max_time_mins = 12, \n",
    "                    n_jobs = -1,\n",
    "                    verbosity = 2,\n",
    "                    cv = 5)"
   ]
  },
  {
   "cell_type": "code",
   "execution_count": 147,
   "id": "eea68ecf",
   "metadata": {},
   "outputs": [
    {
     "data": {
      "application/vnd.jupyter.widget-view+json": {
       "model_id": "9d1f5315d6984abc9ccac03dcc72e5af",
       "version_major": 2,
       "version_minor": 0
      },
      "text/plain": [
       "Optimization Progress:   0%|          | 0/100 [00:00<?, ?pipeline/s]"
      ]
     },
     "metadata": {},
     "output_type": "display_data"
    },
    {
     "name": "stdout",
     "output_type": "stream",
     "text": [
      "\n",
      "Generation 1 - Current best internal CV score: 0.5696969696969697\n",
      "\n",
      "Generation 2 - Current best internal CV score: 0.5696969696969697\n",
      "\n",
      "Generation 3 - Current best internal CV score: 0.6287878787878788\n",
      "\n",
      "Generation 4 - Current best internal CV score: 0.6287878787878788\n",
      "\n",
      "Generation 5 - Current best internal CV score: 0.7484848484848485\n",
      "\n",
      "Generation 6 - Current best internal CV score: 0.7484848484848485\n",
      "\n",
      "Generation 7 - Current best internal CV score: 0.7484848484848485\n",
      "\n",
      "Generation 8 - Current best internal CV score: 0.7484848484848485\n",
      "\n",
      "Generation 9 - Current best internal CV score: 0.75\n",
      "\n",
      "Generation 10 - Current best internal CV score: 0.7666666666666667\n",
      "\n",
      "Generation 11 - Current best internal CV score: 0.7666666666666667\n",
      "\n",
      "Generation 12 - Current best internal CV score: 0.7666666666666667\n",
      "\n",
      "Generation 13 - Current best internal CV score: 0.7666666666666667\n",
      "\n",
      "Generation 14 - Current best internal CV score: 0.7666666666666667\n",
      "\n",
      "12.04 minutes have elapsed. TPOT will close down.\n",
      "TPOT closed during evaluation in one generation.\n",
      "WARNING: TPOT may not provide a good pipeline if TPOT is stopped/interrupted in a early generation.\n",
      "\n",
      "\n",
      "TPOT closed prematurely. Will use the current best pipeline.\n",
      "\n",
      "Best pipeline: XGBClassifier(Normalizer(input_matrix, norm=l1), learning_rate=0.1, max_depth=5, min_child_weight=1, n_estimators=100, n_jobs=1, subsample=0.8500000000000001, verbosity=0)\n"
     ]
    },
    {
     "data": {
      "text/plain": [
       "TPOTClassifier(max_time_mins=12, n_jobs=-1,\n",
       "               scoring=make_scorer(my_custom_accuracy), verbosity=2)"
      ]
     },
     "execution_count": 147,
     "metadata": {},
     "output_type": "execute_result"
    }
   ],
   "source": [
    "# Fit the tpot model on the training data\n",
    "tpot.fit(training_features, training_targets)"
   ]
  },
  {
   "cell_type": "markdown",
   "id": "30fb3026",
   "metadata": {},
   "source": [
    "### Output of TPOT Classifier with Custom Scorer"
   ]
  },
  {
   "cell_type": "markdown",
   "id": "e4b3f037",
   "metadata": {},
   "source": [
    "Generation 14 - Current best internal CV score: 0.7666666666666667\n",
    "\n",
    "12.04 minutes have elapsed. TPOT will close down.\n",
    "TPOT closed during evaluation in one generation.\n",
    "WARNING: TPOT may not provide a good pipeline if TPOT is stopped/interrupted in a early generation.\n",
    "\n",
    "\n",
    "TPOT closed prematurely. Will use the current best pipeline.\n",
    "\n",
    "Best pipeline: XGBClassifier(Normalizer(input_matrix, norm=l1), learning_rate=0.1, max_depth=5, min_child_weight=1, n_estimators=100, n_jobs=1, subsample=0.8500000000000001, verbosity=0)\n",
    "TPOTClassifier(max_time_mins=12, n_jobs=-1,\n",
    "               scoring=make_scorer(my_custom_accuracy), verbosity=2)"
   ]
  },
  {
   "cell_type": "markdown",
   "id": "d6d3f54e",
   "metadata": {},
   "source": [
    "### Output of TPOT Classifier with Negative Mean Squared Error"
   ]
  },
  {
   "cell_type": "markdown",
   "id": "4dbf1dfb",
   "metadata": {},
   "source": [
    "Generation 90 - Current best internal CV score: -0.1787878787878788\n",
    "\n",
    "120.04 minutes have elapsed. TPOT will close down.\n",
    "TPOT closed during evaluation in one generation.\n",
    "WARNING: TPOT may not provide a good pipeline if TPOT is stopped/interrupted in a early generation.\n",
    "\n",
    "\n",
    "TPOT closed prematurely. Will use the current best pipeline.\n",
    "\n",
    "Best pipeline: XGBClassifier(Normalizer(CombineDFs(input_matrix, RobustScaler(ZeroCount(Normalizer(input_matrix, norm=l1)))), norm=max), learning_rate=0.1, max_depth=1, min_child_weight=1, n_estimators=100, n_jobs=1, subsample=0.7000000000000001, verbosity=0)\n",
    "TPOTClassifier(max_time_mins=120, n_jobs=-1, scoring='neg_mean_absolute_error',\n",
    "               verbosity=2)"
   ]
  },
  {
   "cell_type": "markdown",
   "id": "39ec37cd",
   "metadata": {},
   "source": [
    "### Exporting the model"
   ]
  },
  {
   "cell_type": "code",
   "execution_count": null,
   "id": "87b512ef",
   "metadata": {},
   "outputs": [],
   "source": []
  },
  {
   "cell_type": "code",
   "execution_count": null,
   "id": "6bcc7d81",
   "metadata": {},
   "outputs": [],
   "source": [
    "# Show the final model\n",
    "print(tpot.fitted_pipeline_)"
   ]
  },
  {
   "cell_type": "code",
   "execution_count": null,
   "id": "1163f5e3",
   "metadata": {},
   "outputs": [],
   "source": [
    "# Export the pipeline as a python script file\n",
    "tpot.export('tpot_exported_pipeline.py')"
   ]
  }
 ],
 "metadata": {
  "kernelspec": {
   "display_name": "Python 3 (ipykernel)",
   "language": "python",
   "name": "python3"
  },
  "language_info": {
   "codemirror_mode": {
    "name": "ipython",
    "version": 3
   },
   "file_extension": ".py",
   "mimetype": "text/x-python",
   "name": "python",
   "nbconvert_exporter": "python",
   "pygments_lexer": "ipython3",
   "version": "3.9.7"
  }
 },
 "nbformat": 4,
 "nbformat_minor": 5
}
