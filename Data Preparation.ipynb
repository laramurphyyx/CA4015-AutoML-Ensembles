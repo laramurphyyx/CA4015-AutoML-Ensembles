{
 "cells": [
  {
   "cell_type": "markdown",
   "id": "9b4b30ee",
   "metadata": {},
   "source": [
    "# Using TPOT to Identify the Best Model for VOC Data"
   ]
  },
  {
   "cell_type": "markdown",
   "id": "3fe5c92e",
   "metadata": {},
   "source": [
    "## Importing Relevant Packages and Datasets"
   ]
  },
  {
   "cell_type": "code",
   "execution_count": 2,
   "id": "54989883",
   "metadata": {},
   "outputs": [
    {
     "name": "stderr",
     "output_type": "stream",
     "text": [
      "C:\\Users\\laram\\AppData\\Local\\Continuum\\anaconda3\\envs\\ca4015\\lib\\site-packages\\tpot\\builtins\\__init__.py:36: UserWarning: Warning: optional dependency `torch` is not available. - skipping import of NN models.\n",
      "  warnings.warn(\"Warning: optional dependency `torch` is not available. - skipping import of NN models.\")\n"
     ]
    }
   ],
   "source": [
    "import pandas as pd\n",
    "import numpy as np\n",
    "from sklearn.model_selection import train_test_split\n",
    "from tpot import TPOTClassifier"
   ]
  },
  {
   "cell_type": "code",
   "execution_count": 3,
   "id": "a9ee7b1e",
   "metadata": {},
   "outputs": [],
   "source": [
    "data = pd.read_excel('data/raw_data.xlsx', sheet_name=\"Wide\")"
   ]
  },
  {
   "cell_type": "markdown",
   "id": "f6889721",
   "metadata": {},
   "source": [
    "## Restructuring the data"
   ]
  },
  {
   "cell_type": "markdown",
   "id": "d8feca8c",
   "metadata": {},
   "source": [
    "The data contains null values for columns, and the real column names are contained within a row in the dataframe.\n",
    "The row of column names need to be extracted, and added as the column names for the remaining data."
   ]
  },
  {
   "cell_type": "code",
   "execution_count": 4,
   "id": "1c2ac633",
   "metadata": {},
   "outputs": [],
   "source": [
    "columns = data.iloc[2]"
   ]
  },
  {
   "cell_type": "code",
   "execution_count": 5,
   "id": "6e87a665",
   "metadata": {},
   "outputs": [],
   "source": [
    "data_content = data.iloc[3:]"
   ]
  },
  {
   "cell_type": "code",
   "execution_count": 6,
   "id": "d4c525aa",
   "metadata": {},
   "outputs": [],
   "source": [
    "data_content.columns = columns"
   ]
  },
  {
   "cell_type": "markdown",
   "id": "3982a264",
   "metadata": {},
   "source": [
    "# Creating test and train features"
   ]
  },
  {
   "cell_type": "markdown",
   "id": "f361b701",
   "metadata": {},
   "source": [
    "The target label is the strain, and the features used to train the model exclude the strain, the species and the sample.\n",
    "The species and the sample are removed from the training features due to their link to the strain."
   ]
  },
  {
   "cell_type": "code",
   "execution_count": 7,
   "id": "64f64590",
   "metadata": {},
   "outputs": [],
   "source": [
    "features = data_content.iloc[:,3:]\n",
    "targets = data_content.iloc[:,:3]\n",
    "strain_targets = targets.iloc[:,1]"
   ]
  },
  {
   "cell_type": "code",
   "execution_count": 8,
   "id": "86b55707",
   "metadata": {},
   "outputs": [],
   "source": [
    "features = features.fillna(0)"
   ]
  },
  {
   "cell_type": "code",
   "execution_count": 9,
   "id": "b70deb34",
   "metadata": {},
   "outputs": [
    {
     "data": {
      "text/plain": [
       "True"
      ]
     },
     "execution_count": 9,
     "metadata": {},
     "output_type": "execute_result"
    }
   ],
   "source": [
    "## checking that all columns are numeric\n",
    "features.shape[1] == features.select_dtypes(include=np.number).shape[1]"
   ]
  },
  {
   "cell_type": "code",
   "execution_count": 11,
   "id": "a4446674",
   "metadata": {
    "scrolled": true
   },
   "outputs": [
    {
     "name": "stdout",
     "output_type": "stream",
     "text": [
      "(84, 67)\n",
      "(84,)\n"
     ]
    }
   ],
   "source": [
    "print(features.shape)\n",
    "print(strain_targets.shape)"
   ]
  },
  {
   "cell_type": "markdown",
   "id": "8da9e1d1",
   "metadata": {},
   "source": [
    "## Converting training data to numpy arrays"
   ]
  },
  {
   "cell_type": "code",
   "execution_count": 12,
   "id": "a706c754",
   "metadata": {},
   "outputs": [],
   "source": [
    "## features_array = np.array(features).reshape((-1,))\n",
    "targets_array = np.array(strain_targets).reshape((-1,))"
   ]
  },
  {
   "cell_type": "code",
   "execution_count": 15,
   "id": "6d8b50b6",
   "metadata": {},
   "outputs": [
    {
     "data": {
      "text/plain": [
       "5628"
      ]
     },
     "execution_count": 15,
     "metadata": {},
     "output_type": "execute_result"
    }
   ],
   "source": [
    "len(features_array)"
   ]
  },
  {
   "cell_type": "code",
   "execution_count": 16,
   "id": "e6e3ebc8",
   "metadata": {},
   "outputs": [
    {
     "data": {
      "text/plain": [
       "array(['SA_A', 'SA_A', 'SA_A', 'SA_A', 'SA_A', 'SA_B', 'SA_B', 'SA_B',\n",
       "       'SA_B', 'SA_B', 'SA_A', 'SA_A', 'SA_A', 'SA_A', 'SA_A', 'SA_B',\n",
       "       'SA_B', 'SA_B', 'SA_B', 'SA_B', 'SA_A', 'SA_A', 'SA_A', 'SA_A',\n",
       "       'SA_A', 'SA_B', 'SA_B', 'SA_B', 'SA_B', 'SA_B', 'PA_A', 'PA_A',\n",
       "       'PA_A', 'PA_A', 'PA_A', 'PA_B', 'PA_B', 'PA_B', 'PA_B', 'PA_B',\n",
       "       'PA_A', 'PA_A', 'PA_A', 'PA_A', 'PA_A', 'PA_B', 'PA_B', 'PA_B',\n",
       "       'PA_B', 'PA_B', 'PA_A', 'PA_A', 'PA_A', 'PA_A', 'PA_B', 'PA_B',\n",
       "       'PA_B', 'EC_A', 'EC_A', 'EC_A', 'EC_A', 'EC_B', 'EC_B', 'EC_B',\n",
       "       'EC_A', 'EC_A', 'EC_A', 'EC_A', 'EC_A', 'EC_B', 'EC_B', 'EC_B',\n",
       "       'EC_B', 'EC_B', 'EC_A', 'EC_A', 'EC_A', 'EC_A', 'EC_A', 'EC_B',\n",
       "       'EC_B', 'EC_B', 'EC_B', 'EC_B'], dtype=object)"
      ]
     },
     "execution_count": 16,
     "metadata": {},
     "output_type": "execute_result"
    }
   ],
   "source": [
    "targets_array"
   ]
  },
  {
   "cell_type": "markdown",
   "id": "7c9e5bab",
   "metadata": {},
   "source": [
    "## Adjusting the target values to be integers"
   ]
  },
  {
   "cell_type": "code",
   "execution_count": 17,
   "id": "de1cbb50",
   "metadata": {},
   "outputs": [],
   "source": [
    "strain_integer_conversion = {\n",
    "    'SA_A' : 1,\n",
    "    'SA_B' : 2,\n",
    "    'PA_A' : 3,\n",
    "    'PA_B' : 4,\n",
    "    'EC_A' : 5,\n",
    "    'EC_B' : 6\n",
    "}\n",
    "\n",
    "for target in range(0,len(targets_array)):\n",
    "    if targets_array[target] in strain_integer_conversion.keys():\n",
    "        targets_array[target] = strain_integer_conversion[targets_array[target]]"
   ]
  },
  {
   "cell_type": "markdown",
   "id": "702fa7b5",
   "metadata": {},
   "source": [
    "## Using TPOT"
   ]
  },
  {
   "cell_type": "code",
   "execution_count": 18,
   "id": "7387a43b",
   "metadata": {},
   "outputs": [],
   "source": [
    "from sklearn.metrics import make_scorer\n",
    "\n",
    "def my_custom_accuracy(y_true, y_pred):\n",
    "    return float(sum(y_pred == y_true)) / len(y_true)\n",
    "\n",
    "my_custom_scorer = make_scorer(my_custom_accuracy, greater_is_better=True)\n",
    "\n",
    "# Create a tpot object with a few parameters\n",
    "tpot = TPOTClassifier(scoring = my_custom_scorer, \n",
    "                    max_time_mins = 240, \n",
    "                    n_jobs = -1,\n",
    "                    verbosity = 2,\n",
    "                    cv = 5)"
   ]
  },
  {
   "cell_type": "code",
   "execution_count": 141,
   "id": "a1678e86",
   "metadata": {},
   "outputs": [],
   "source": [
    "# Create a tpot object with a few parameters\n",
    "#tpot = TPOTClassifier(scoring = 'accuracy', \n",
    "#                    max_time_mins = 12, \n",
    "#                    n_jobs = -1,\n",
    "#                    verbosity = 2,\n",
    "#                    cv = 5)"
   ]
  },
  {
   "cell_type": "code",
   "execution_count": null,
   "id": "f9827d90",
   "metadata": {
    "scrolled": false
   },
   "outputs": [
    {
     "data": {
      "application/vnd.jupyter.widget-view+json": {
       "model_id": "b045f32cd96a43fd910f605fc973ebf5",
       "version_major": 2,
       "version_minor": 0
      },
      "text/plain": [
       "Optimization Progress:   0%|          | 0/100 [00:00<?, ?pipeline/s]"
      ]
     },
     "metadata": {},
     "output_type": "display_data"
    }
   ],
   "source": [
    "# Fit the tpot model on the training data\n",
    "tpot.fit(features, targets_array)"
   ]
  },
  {
   "cell_type": "markdown",
   "id": "4dbd72dd",
   "metadata": {},
   "source": [
    "### Best algorithm based on accuracy and running for 4 hours\n",
    "\n",
    "Generation 100 - Current best internal CV score: 0.8030303030303031\n",
    "\n",
    "Best pipeline: XGBClassifier(SelectPercentile(Normalizer(input_matrix, norm=max), percentile=44), learning_rate=0.1, max_depth=7, min_child_weight=1, n_estimators=100, n_jobs=1, subsample=0.6000000000000001, verbosity=0)\n",
    "TPOTClassifier(max_time_mins=240, n_jobs=-1,\n",
    "               scoring=make_scorer(my_custom_accuracy), verbosity=2)"
   ]
  },
  {
   "cell_type": "markdown",
   "id": "708c8454",
   "metadata": {},
   "source": [
    "### Output of TPOT Classifier with Custom Scorer"
   ]
  },
  {
   "cell_type": "markdown",
   "id": "16ebd76c",
   "metadata": {},
   "source": [
    "Generation 14 - Current best internal CV score: 0.7666666666666667\n",
    "\n",
    "12.04 minutes have elapsed. TPOT will close down.\n",
    "TPOT closed during evaluation in one generation.\n",
    "WARNING: TPOT may not provide a good pipeline if TPOT is stopped/interrupted in a early generation.\n",
    "\n",
    "\n",
    "TPOT closed prematurely. Will use the current best pipeline.\n",
    "\n",
    "Best pipeline: XGBClassifier(Normalizer(input_matrix, norm=l1), learning_rate=0.1, max_depth=5, min_child_weight=1, n_estimators=100, n_jobs=1, subsample=0.8500000000000001, verbosity=0)\n",
    "TPOTClassifier(max_time_mins=12, n_jobs=-1,\n",
    "               scoring=make_scorer(my_custom_accuracy), verbosity=2)"
   ]
  },
  {
   "cell_type": "markdown",
   "id": "3a6fbefb",
   "metadata": {},
   "source": [
    "### Output of TPOT Classifier with Negative Mean Squared Error"
   ]
  },
  {
   "cell_type": "markdown",
   "id": "76ba8fa9",
   "metadata": {},
   "source": [
    "Generation 90 - Current best internal CV score: -0.1787878787878788\n",
    "\n",
    "120.04 minutes have elapsed. TPOT will close down.\n",
    "TPOT closed during evaluation in one generation.\n",
    "WARNING: TPOT may not provide a good pipeline if TPOT is stopped/interrupted in a early generation.\n",
    "\n",
    "\n",
    "TPOT closed prematurely. Will use the current best pipeline.\n",
    "\n",
    "Best pipeline: XGBClassifier(Normalizer(CombineDFs(input_matrix, RobustScaler(ZeroCount(Normalizer(input_matrix, norm=l1)))), norm=max), learning_rate=0.1, max_depth=1, min_child_weight=1, n_estimators=100, n_jobs=1, subsample=0.7000000000000001, verbosity=0)\n",
    "TPOTClassifier(max_time_mins=120, n_jobs=-1, scoring='neg_mean_absolute_error',\n",
    "               verbosity=2)"
   ]
  },
  {
   "cell_type": "markdown",
   "id": "63298d64",
   "metadata": {},
   "source": [
    "### Exporting the model"
   ]
  },
  {
   "cell_type": "code",
   "execution_count": null,
   "id": "1430e141",
   "metadata": {},
   "outputs": [],
   "source": []
  },
  {
   "cell_type": "code",
   "execution_count": null,
   "id": "48d7e754",
   "metadata": {},
   "outputs": [],
   "source": [
    "# Show the final model\n",
    "print(tpot.fitted_pipeline_)"
   ]
  },
  {
   "cell_type": "code",
   "execution_count": null,
   "id": "173d5399",
   "metadata": {},
   "outputs": [],
   "source": [
    "# Export the pipeline as a python script file\n",
    "tpot.export('tpot_exported_pipeline.py')"
   ]
  }
 ],
 "metadata": {
  "kernelspec": {
   "display_name": "Python 3 (ipykernel)",
   "language": "python",
   "name": "python3"
  },
  "language_info": {
   "codemirror_mode": {
    "name": "ipython",
    "version": 3
   },
   "file_extension": ".py",
   "mimetype": "text/x-python",
   "name": "python",
   "nbconvert_exporter": "python",
   "pygments_lexer": "ipython3",
   "version": "3.9.7"
  }
 },
 "nbformat": 4,
 "nbformat_minor": 5
}
